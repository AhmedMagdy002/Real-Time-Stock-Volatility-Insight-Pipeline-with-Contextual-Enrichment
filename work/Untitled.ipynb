{
 "cells": [
  {
   "cell_type": "code",
   "execution_count": 3,
   "id": "18c847ac-c457-46ae-95bc-f8e60b2ce4fc",
   "metadata": {},
   "outputs": [
    {
     "name": "stdout",
     "output_type": "stream",
     "text": [
      "✅ Bucket created!\n",
      "✅ Job completed!\n",
      "\n",
      "Files in bucket:\n",
      "  - output.parquet/_SUCCESS\n",
      "  - output.parquet/part-00000-c1138f74-f87f-4e02-ba73-140ad38069cf-c000.snappy.parquet\n",
      "  - output.parquet/part-00001-c1138f74-f87f-4e02-ba73-140ad38069cf-c000.snappy.parquet\n",
      "  - output.parquet/part-00002-c1138f74-f87f-4e02-ba73-140ad38069cf-c000.snappy.parquet\n",
      "  - output.parquet/part-00003-c1138f74-f87f-4e02-ba73-140ad38069cf-c000.snappy.parquet\n",
      "  - output.parquet/part-00004-c1138f74-f87f-4e02-ba73-140ad38069cf-c000.snappy.parquet\n",
      "  - output.parquet/part-00005-c1138f74-f87f-4e02-ba73-140ad38069cf-c000.snappy.parquet\n",
      "  - output.parquet/part-00006-c1138f74-f87f-4e02-ba73-140ad38069cf-c000.snappy.parquet\n",
      "  - output.parquet/part-00007-c1138f74-f87f-4e02-ba73-140ad38069cf-c000.snappy.parquet\n",
      "  - output.parquet/part-00008-c1138f74-f87f-4e02-ba73-140ad38069cf-c000.snappy.parquet\n",
      "  - output.parquet/part-00009-c1138f74-f87f-4e02-ba73-140ad38069cf-c000.snappy.parquet\n",
      "  - output.parquet/part-00010-c1138f74-f87f-4e02-ba73-140ad38069cf-c000.snappy.parquet\n",
      "  - output.parquet/part-00011-c1138f74-f87f-4e02-ba73-140ad38069cf-c000.snappy.parquet\n"
     ]
    }
   ],
   "source": [
    "%run /home/jovyan/work/t.py"
   ]
  },
  {
   "cell_type": "code",
   "execution_count": 5,
   "id": "adafd712-f11d-44a0-a186-9a8be0131af8",
   "metadata": {},
   "outputs": [
    {
     "name": "stdout",
     "output_type": "stream",
     "text": [
      "✅ Spark is ready!\n"
     ]
    }
   ],
   "source": [
    "from pyspark.sql import SparkSession\n",
    "\n",
    "spark = SparkSession.builder \\\n",
    "    .appName(\"TestS3\") \\\n",
    "    .config(\"spark.jars.packages\", \"org.apache.hadoop:hadoop-aws:3.3.4\") \\\n",
    "    .config(\"spark.hadoop.fs.s3a.endpoint\", \"http://localstack:4566\") \\\n",
    "    .config(\"spark.hadoop.fs.s3a.access.key\", \"test\") \\\n",
    "    .config(\"spark.hadoop.fs.s3a.secret.key\", \"test\") \\\n",
    "    .config(\"spark.hadoop.fs.s3a.path.style.access\", \"true\") \\\n",
    "    .config(\"spark.hadoop.fs.s3a.impl\", \"org.apache.hadoop.fs.s3a.S3AFileSystem\") \\\n",
    "    .getOrCreate()\n",
    "\n",
    "print(\"✅ Spark is ready!\")"
   ]
  },
  {
   "cell_type": "code",
   "execution_count": 6,
   "id": "40e1617f-8d0c-407a-afa0-564c5638f5be",
   "metadata": {},
   "outputs": [
    {
     "name": "stdout",
     "output_type": "stream",
     "text": [
      "+---+-------+\n",
      "| id|doubled|\n",
      "+---+-------+\n",
      "| 16|     32|\n",
      "| 17|     34|\n",
      "| 18|     36|\n",
      "| 19|     38|\n",
      "| 20|     40|\n",
      "| 21|     42|\n",
      "| 22|     44|\n",
      "| 23|     46|\n",
      "| 24|     48|\n",
      "| 41|     82|\n",
      "| 42|     84|\n",
      "| 43|     86|\n",
      "| 44|     88|\n",
      "| 45|     90|\n",
      "| 46|     92|\n",
      "| 47|     94|\n",
      "| 48|     96|\n",
      "| 49|     98|\n",
      "| 66|    132|\n",
      "| 67|    134|\n",
      "+---+-------+\n",
      "only showing top 20 rows\n",
      "\n"
     ]
    }
   ],
   "source": [
    "# Read back the data\n",
    "df_read = spark.read.parquet(\"s3a://test-bucket/output.parquet\")\n",
    "df_read.show()"
   ]
  }
 ],
 "metadata": {
  "kernelspec": {
   "display_name": "Python 3 (ipykernel)",
   "language": "python",
   "name": "python3"
  },
  "language_info": {
   "codemirror_mode": {
    "name": "ipython",
    "version": 3
   },
   "file_extension": ".py",
   "mimetype": "text/x-python",
   "name": "python",
   "nbconvert_exporter": "python",
   "pygments_lexer": "ipython3",
   "version": "3.11.5"
  }
 },
 "nbformat": 4,
 "nbformat_minor": 5
}
